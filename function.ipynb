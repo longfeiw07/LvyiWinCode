{
 "cells": [
  {
   "cell_type": "code",
   "execution_count": null,
   "metadata": {
    "collapsed": true
   },
   "outputs": [],
   "source": [
    "# -*- coding: utf-8 -*-\n",
    "import pandas as pd\n",
    "#统计连续为正最大的数量\n",
    "#统计连续为负最大的数量\n",
    "df=pd.read_csv('D:\\\\002 MakeLive\\myquant\\LvyiWin\\Results\\DCE I600 slip\\\\DCE.I600 Set8564 MS5 ML12 KN22 DN26 result.csv')\n",
    "ret=df.ret.tolist()\n",
    "positiveDict=[0]*20\n",
    "negativeDict=[0]*20\n",
    "r0=ret[0]\n",
    "positivenum=int(0)\n",
    "negativenum=int(0)\n",
    "for r in ret:\n",
    "    if r>0:\n",
    "        #当前为正，判断之前的数\n",
    "        if r0>0:\n",
    "            #如果当前为正，之前也为正，则正数+1\n",
    "            positivenum+=1\n",
    "        elif r0<=0:\n",
    "            #如果当正，之前为负，正数+1，负数保存并清0\n",
    "            positivenum+=1\n",
    "            if negativenum>0:\n",
    "                negativeDict[negativenum]+=1\n",
    "            negativenum=0\n",
    "    elif r<=0:\n",
    "        if r0>0:\n",
    "            #如果当前为负，之前为正，则正数清并保存，负数+1\n",
    "            negativenum+=1\n",
    "            if positivenum>0:\n",
    "                positiveDict[positivenum] += 1\n",
    "            positivenum=0\n",
    "        elif r0<=0:\n",
    "            negativenum+=1\n",
    "    r0=r\n",
    "\n",
    "positivedf=pd.DataFrame(positiveDict,columns=['successionnum'])\n",
    "negativedf=pd.DataFrame(negativeDict,columns=['successionnum'])\n",
    "positivedf.to_csv('positivedf.csv')\n",
    "negativedf.to_csv('negativedf.csv')\n",
    "pass"
   ]
  },
  {
   "cell_type": "code",
   "execution_count": 2,
   "metadata": {},
   "outputs": [
    {
     "name": "stdout",
     "output_type": "stream",
     "text": [
      "[0, 1, 2, 3, 4, 5]\n6\n"
     ]
    }
   ],
   "source": [
    "# -*- coding: utf-8 -*-\n",
    "#list取值范围的简单测试\n",
    "#结论：list取范围时，最后一个值是不包含进来的，单独取值时可以取到\n",
    "l=[0,1,2,3,4,5,6]\n",
    "print l[:-1]\n",
    "print l[-1]"
   ]
  },
  {
   "cell_type": "code",
   "execution_count": null,
   "metadata": {},
   "outputs": [],
   "source": []
  }
 ],
 "metadata": {
  "kernelspec": {
   "display_name": "Python 2",
   "language": "python",
   "name": "python2"
  },
  "language_info": {
   "codemirror_mode": {
    "name": "ipython",
    "version": 2
   },
   "file_extension": ".py",
   "mimetype": "text/x-python",
   "name": "python",
   "nbconvert_exporter": "python",
   "pygments_lexer": "ipython2",
   "version": "2.7.6"
  }
 },
 "nbformat": 4,
 "nbformat_minor": 0
}
