{
 "cells": [
  {
   "cell_type": "code",
   "execution_count": null,
   "metadata": {
    "collapsed": true
   },
   "outputs": [],
   "source": [
    "import numpy as np\n",
    "import pandas as pd\n",
    "def periodRetR(parasetlist,datapath,symbol,K_MIN,period='week'):\n",
    "    if period is 'month':slicep=7\n",
    "    else: slicep=10\n",
    "    parasetlen = parasetlist.shape[0]\n",
    "    prodlist=[]\n",
    "    for i in np.arange(0, parasetlen):\n",
    "        setname=parasetlist.ix[i,'Setname']\n",
    "        print setname\n",
    "        filename=datapath+symbol + str(K_MIN) + ' ' + setname + ' result.csv'\n",
    "        result=pd.read_csv(filename)\n",
    "        result['period'] =result.opentime.str.slice(0, slicep)\n",
    "        #print result.month\n",
    "        result['ret_r_1'] = result['ret_r'] + 1\n",
    "        grouped_ret_r = result['ret_r_1'].groupby(result['period'])\n",
    "        ret_r_prod = grouped_ret_r.prod()\n",
    "        ret_r_prod.name=setname\n",
    "        prodlist.append(ret_r_prod)\n",
    "\n",
    "    proddf=pd.DataFrame(prodlist)\n",
    "    tf=\"%s%s_%d_daily_retr.csv\" %(datapath,symbol,K_MIN)\n",
    "    proddf.to_csv(tf)\n",
    "    return tf\n",
    "\n",
    "if __name__ == '__main__':\n",
    "    parasetlist=pd.read_csv('D:\\\\002 MakeLive\\myquant\\LvyiWin\\Results\\\\ParameterOptSet.csv')\n",
    "    datapath='D:\\\\002 MakeLive\\myquant\\LvyiWin\\Results\\\\SHFE RB 600 ricequant\\\\'\n",
    "    symbol='SHFE.RB'\n",
    "    K_MIN=600\n",
    "    monthyRetR(parasetlist,datapath,symbol,K_MIN)"
   ]
  },
  {
   "cell_type": "code",
   "execution_count": 72,
   "metadata": {},
   "outputs": [
    {
     "name": "stdout",
     "output_type": "stream",
     "text": [
      "                           ret1  ret_count        SR     ret_r\n",
      "openutc                                                       \n",
      "2013-10-22 10:10:00+08:00   2.0          8  0.250000  0.976561\n",
      "2013-10-29 10:10:00+08:00   2.0         10  0.200000  0.980782\n",
      "2013-11-05 10:10:00+08:00   1.0         10  0.100000  0.973876\n",
      "2013-11-12 10:10:00+08:00   4.0         10  0.400000  0.982073\n",
      "2013-11-19 10:10:00+08:00   3.0          8  0.375000  0.993599\n",
      "2013-11-26 10:10:00+08:00   3.0         10  0.300000  0.987259\n",
      "2013-12-03 10:10:00+08:00   2.0          4  0.500000  0.996862\n",
      "2013-12-10 10:10:00+08:00   1.0          7  0.142857  0.989903\n",
      "2013-12-17 10:10:00+08:00   3.0          7  0.428571  0.989638\n",
      "2013-12-24 10:10:00+08:00   2.0         13  0.153846  0.981552\n",
      "[Timestamp('2013-10-22 10:10:00+0800', tz='Asia/Shanghai', freq='7D'), Timestamp('2013-10-29 10:10:00+0800', tz='Asia/Shanghai', freq='7D'), Timestamp('2013-11-05 10:10:00+0800', tz='Asia/Shanghai', freq='7D'), Timestamp('2013-11-12 10:10:00+0800', tz='Asia/Shanghai', freq='7D'), Timestamp('2013-11-19 10:10:00+0800', tz='Asia/Shanghai', freq='7D'), Timestamp('2013-11-26 10:10:00+0800', tz='Asia/Shanghai', freq='7D'), Timestamp('2013-12-03 10:10:00+0800', tz='Asia/Shanghai', freq='7D'), Timestamp('2013-12-10 10:10:00+0800', tz='Asia/Shanghai', freq='7D'), Timestamp('2013-12-17 10:10:00+0800', tz='Asia/Shanghai', freq='7D'), Timestamp('2013-12-24 10:10:00+0800', tz='Asia/Shanghai', freq='7D'), Timestamp('2013-12-31 10:10:00+0800', tz='Asia/Shanghai', freq='7D'), Timestamp('2014-01-07 10:10:00+0800', tz='Asia/Shanghai', freq='7D'), Timestamp('2014-01-14 10:10:00+0800', tz='Asia/Shanghai', freq='7D'), Timestamp('2014-01-21 10:10:00+0800', tz='Asia/Shanghai', freq='7D'), Timestamp('2014-01-28 10:10:00+0800', tz='Asia/Shanghai', freq='7D'), Timestamp('2014-02-04 10:10:00+0800', tz='Asia/Shanghai', freq='7D'), Timestamp('2014-02-11 10:10:00+0800', tz='Asia/Shanghai', freq='7D'), Timestamp('2014-02-18 10:10:00+0800', tz='Asia/Shanghai', freq='7D'), Timestamp('2014-02-25 10:10:00+0800', tz='Asia/Shanghai', freq='7D'), Timestamp('2014-03-04 10:10:00+0800', tz='Asia/Shanghai', freq='7D'), Timestamp('2014-03-11 10:10:00+0800', tz='Asia/Shanghai', freq='7D'), Timestamp('2014-03-18 10:10:00+0800', tz='Asia/Shanghai', freq='7D'), Timestamp('2014-03-25 10:10:00+0800', tz='Asia/Shanghai', freq='7D'), Timestamp('2014-04-01 10:10:00+0800', tz='Asia/Shanghai', freq='7D'), Timestamp('2014-04-08 10:10:00+0800', tz='Asia/Shanghai', freq='7D'), Timestamp('2014-04-15 10:10:00+0800', tz='Asia/Shanghai', freq='7D'), Timestamp('2014-04-22 10:10:00+0800', tz='Asia/Shanghai', freq='7D'), Timestamp('2014-04-29 10:10:00+0800', tz='Asia/Shanghai', freq='7D'), Timestamp('2014-05-06 10:10:00+0800', tz='Asia/Shanghai', freq='7D'), Timestamp('2014-05-13 10:10:00+0800', tz='Asia/Shanghai', freq='7D'), Timestamp('2014-05-20 10:10:00+0800', tz='Asia/Shanghai', freq='7D'), Timestamp('2014-05-27 10:10:00+0800', tz='Asia/Shanghai', freq='7D'), Timestamp('2014-06-03 10:10:00+0800', tz='Asia/Shanghai', freq='7D'), Timestamp('2014-06-10 10:10:00+0800', tz='Asia/Shanghai', freq='7D'), Timestamp('2014-06-17 10:10:00+0800', tz='Asia/Shanghai', freq='7D'), Timestamp('2014-06-24 10:10:00+0800', tz='Asia/Shanghai', freq='7D'), Timestamp('2014-07-01 10:10:00+0800', tz='Asia/Shanghai', freq='7D'), Timestamp('2014-07-08 10:10:00+0800', tz='Asia/Shanghai', freq='7D'), Timestamp('2014-07-15 10:10:00+0800', tz='Asia/Shanghai', freq='7D'), Timestamp('2014-07-22 10:10:00+0800', tz='Asia/Shanghai', freq='7D'), Timestamp('2014-07-29 10:10:00+0800', tz='Asia/Shanghai', freq='7D'), Timestamp('2014-08-05 10:10:00+0800', tz='Asia/Shanghai', freq='7D'), Timestamp('2014-08-12 10:10:00+0800', tz='Asia/Shanghai', freq='7D'), Timestamp('2014-08-19 10:10:00+0800', tz='Asia/Shanghai', freq='7D'), Timestamp('2014-08-26 10:10:00+0800', tz='Asia/Shanghai', freq='7D'), Timestamp('2014-09-02 10:10:00+0800', tz='Asia/Shanghai', freq='7D'), Timestamp('2014-09-09 10:10:00+0800', tz='Asia/Shanghai', freq='7D'), Timestamp('2014-09-16 10:10:00+0800', tz='Asia/Shanghai', freq='7D'), Timestamp('2014-09-23 10:10:00+0800', tz='Asia/Shanghai', freq='7D'), Timestamp('2014-09-30 10:10:00+0800', tz='Asia/Shanghai', freq='7D'), Timestamp('2014-10-07 10:10:00+0800', tz='Asia/Shanghai', freq='7D'), Timestamp('2014-10-14 10:10:00+0800', tz='Asia/Shanghai', freq='7D'), Timestamp('2014-10-21 10:10:00+0800', tz='Asia/Shanghai', freq='7D'), Timestamp('2014-10-28 10:10:00+0800', tz='Asia/Shanghai', freq='7D'), Timestamp('2014-11-04 10:10:00+0800', tz='Asia/Shanghai', freq='7D'), Timestamp('2014-11-11 10:10:00+0800', tz='Asia/Shanghai', freq='7D'), Timestamp('2014-11-18 10:10:00+0800', tz='Asia/Shanghai', freq='7D'), Timestamp('2014-11-25 10:10:00+0800', tz='Asia/Shanghai', freq='7D'), Timestamp('2014-12-02 10:10:00+0800', tz='Asia/Shanghai', freq='7D'), Timestamp('2014-12-09 10:10:00+0800', tz='Asia/Shanghai', freq='7D'), Timestamp('2014-12-16 10:10:00+0800', tz='Asia/Shanghai', freq='7D'), Timestamp('2014-12-23 10:10:00+0800', tz='Asia/Shanghai', freq='7D'), Timestamp('2014-12-30 10:10:00+0800', tz='Asia/Shanghai', freq='7D'), Timestamp('2015-01-06 10:10:00+0800', tz='Asia/Shanghai', freq='7D'), Timestamp('2015-01-13 10:10:00+0800', tz='Asia/Shanghai', freq='7D'), Timestamp('2015-01-20 10:10:00+0800', tz='Asia/Shanghai', freq='7D'), Timestamp('2015-01-27 10:10:00+0800', tz='Asia/Shanghai', freq='7D'), Timestamp('2015-02-03 10:10:00+0800', tz='Asia/Shanghai', freq='7D'), Timestamp('2015-02-10 10:10:00+0800', tz='Asia/Shanghai', freq='7D'), Timestamp('2015-02-17 10:10:00+0800', tz='Asia/Shanghai', freq='7D'), Timestamp('2015-02-24 10:10:00+0800', tz='Asia/Shanghai', freq='7D'), Timestamp('2015-03-03 10:10:00+0800', tz='Asia/Shanghai', freq='7D'), Timestamp('2015-03-10 10:10:00+0800', tz='Asia/Shanghai', freq='7D'), Timestamp('2015-03-17 10:10:00+0800', tz='Asia/Shanghai', freq='7D'), Timestamp('2015-03-24 10:10:00+0800', tz='Asia/Shanghai', freq='7D'), Timestamp('2015-03-31 10:10:00+0800', tz='Asia/Shanghai', freq='7D'), Timestamp('2015-04-07 10:10:00+0800', tz='Asia/Shanghai', freq='7D'), Timestamp('2015-04-14 10:10:00+0800', tz='Asia/Shanghai', freq='7D'), Timestamp('2015-04-21 10:10:00+0800', tz='Asia/Shanghai', freq='7D'), Timestamp('2015-04-28 10:10:00+0800', tz='Asia/Shanghai', freq='7D'), Timestamp('2015-05-05 10:10:00+0800', tz='Asia/Shanghai', freq='7D'), Timestamp('2015-05-12 10:10:00+0800', tz='Asia/Shanghai', freq='7D'), Timestamp('2015-05-19 10:10:00+0800', tz='Asia/Shanghai', freq='7D'), Timestamp('2015-05-26 10:10:00+0800', tz='Asia/Shanghai', freq='7D'), Timestamp('2015-06-02 10:10:00+0800', tz='Asia/Shanghai', freq='7D'), Timestamp('2015-06-09 10:10:00+0800', tz='Asia/Shanghai', freq='7D'), Timestamp('2015-06-16 10:10:00+0800', tz='Asia/Shanghai', freq='7D'), Timestamp('2015-06-23 10:10:00+0800', tz='Asia/Shanghai', freq='7D'), Timestamp('2015-06-30 10:10:00+0800', tz='Asia/Shanghai', freq='7D'), Timestamp('2015-07-07 10:10:00+0800', tz='Asia/Shanghai', freq='7D'), Timestamp('2015-07-14 10:10:00+0800', tz='Asia/Shanghai', freq='7D'), Timestamp('2015-07-21 10:10:00+0800', tz='Asia/Shanghai', freq='7D'), Timestamp('2015-07-28 10:10:00+0800', tz='Asia/Shanghai', freq='7D'), Timestamp('2015-08-04 10:10:00+0800', tz='Asia/Shanghai', freq='7D'), Timestamp('2015-08-11 10:10:00+0800', tz='Asia/Shanghai', freq='7D'), Timestamp('2015-08-18 10:10:00+0800', tz='Asia/Shanghai', freq='7D'), Timestamp('2015-08-25 10:10:00+0800', tz='Asia/Shanghai', freq='7D'), Timestamp('2015-09-01 10:10:00+0800', tz='Asia/Shanghai', freq='7D'), Timestamp('2015-09-08 10:10:00+0800', tz='Asia/Shanghai', freq='7D'), Timestamp('2015-09-15 10:10:00+0800', tz='Asia/Shanghai', freq='7D'), Timestamp('2015-09-22 10:10:00+0800', tz='Asia/Shanghai', freq='7D'), Timestamp('2015-09-29 10:10:00+0800', tz='Asia/Shanghai', freq='7D'), Timestamp('2015-10-06 10:10:00+0800', tz='Asia/Shanghai', freq='7D'), Timestamp('2015-10-13 10:10:00+0800', tz='Asia/Shanghai', freq='7D'), Timestamp('2015-10-20 10:10:00+0800', tz='Asia/Shanghai', freq='7D'), Timestamp('2015-10-27 10:10:00+0800', tz='Asia/Shanghai', freq='7D'), Timestamp('2015-11-03 10:10:00+0800', tz='Asia/Shanghai', freq='7D'), Timestamp('2015-11-10 10:10:00+0800', tz='Asia/Shanghai', freq='7D'), Timestamp('2015-11-17 10:10:00+0800', tz='Asia/Shanghai', freq='7D'), Timestamp('2015-11-24 10:10:00+0800', tz='Asia/Shanghai', freq='7D'), Timestamp('2015-12-01 10:10:00+0800', tz='Asia/Shanghai', freq='7D'), Timestamp('2015-12-08 10:10:00+0800', tz='Asia/Shanghai', freq='7D'), Timestamp('2015-12-15 10:10:00+0800', tz='Asia/Shanghai', freq='7D'), Timestamp('2015-12-22 10:10:00+0800', tz='Asia/Shanghai', freq='7D'), Timestamp('2015-12-29 10:10:00+0800', tz='Asia/Shanghai', freq='7D'), Timestamp('2016-01-05 10:10:00+0800', tz='Asia/Shanghai', freq='7D'), Timestamp('2016-01-12 10:10:00+0800', tz='Asia/Shanghai', freq='7D'), Timestamp('2016-01-19 10:10:00+0800', tz='Asia/Shanghai', freq='7D'), Timestamp('2016-01-26 10:10:00+0800', tz='Asia/Shanghai', freq='7D'), Timestamp('2016-02-02 10:10:00+0800', tz='Asia/Shanghai', freq='7D'), Timestamp('2016-02-09 10:10:00+0800', tz='Asia/Shanghai', freq='7D'), Timestamp('2016-02-16 10:10:00+0800', tz='Asia/Shanghai', freq='7D'), Timestamp('2016-02-23 10:10:00+0800', tz='Asia/Shanghai', freq='7D'), Timestamp('2016-03-01 10:10:00+0800', tz='Asia/Shanghai', freq='7D'), Timestamp('2016-03-08 10:10:00+0800', tz='Asia/Shanghai', freq='7D'), Timestamp('2016-03-15 10:10:00+0800', tz='Asia/Shanghai', freq='7D'), Timestamp('2016-03-22 10:10:00+0800', tz='Asia/Shanghai', freq='7D'), Timestamp('2016-03-29 10:10:00+0800', tz='Asia/Shanghai', freq='7D'), Timestamp('2016-04-05 10:10:00+0800', tz='Asia/Shanghai', freq='7D'), Timestamp('2016-04-12 10:10:00+0800', tz='Asia/Shanghai', freq='7D'), Timestamp('2016-04-19 10:10:00+0800', tz='Asia/Shanghai', freq='7D'), Timestamp('2016-04-26 10:10:00+0800', tz='Asia/Shanghai', freq='7D'), Timestamp('2016-05-03 10:10:00+0800', tz='Asia/Shanghai', freq='7D'), Timestamp('2016-05-10 10:10:00+0800', tz='Asia/Shanghai', freq='7D'), Timestamp('2016-05-17 10:10:00+0800', tz='Asia/Shanghai', freq='7D'), Timestamp('2016-05-24 10:10:00+0800', tz='Asia/Shanghai', freq='7D'), Timestamp('2016-05-31 10:10:00+0800', tz='Asia/Shanghai', freq='7D'), Timestamp('2016-06-07 10:10:00+0800', tz='Asia/Shanghai', freq='7D'), Timestamp('2016-06-14 10:10:00+0800', tz='Asia/Shanghai', freq='7D'), Timestamp('2016-06-21 10:10:00+0800', tz='Asia/Shanghai', freq='7D'), Timestamp('2016-06-28 10:10:00+0800', tz='Asia/Shanghai', freq='7D'), Timestamp('2016-07-05 10:10:00+0800', tz='Asia/Shanghai', freq='7D'), Timestamp('2016-07-12 10:10:00+0800', tz='Asia/Shanghai', freq='7D'), Timestamp('2016-07-19 10:10:00+0800', tz='Asia/Shanghai', freq='7D'), Timestamp('2016-07-26 10:10:00+0800', tz='Asia/Shanghai', freq='7D'), Timestamp('2016-08-02 10:10:00+0800', tz='Asia/Shanghai', freq='7D'), Timestamp('2016-08-09 10:10:00+0800', tz='Asia/Shanghai', freq='7D'), Timestamp('2016-08-16 10:10:00+0800', tz='Asia/Shanghai', freq='7D'), Timestamp('2016-08-23 10:10:00+0800', tz='Asia/Shanghai', freq='7D'), Timestamp('2016-08-30 10:10:00+0800', tz='Asia/Shanghai', freq='7D'), Timestamp('2016-09-06 10:10:00+0800', tz='Asia/Shanghai', freq='7D'), Timestamp('2016-09-13 10:10:00+0800', tz='Asia/Shanghai', freq='7D'), Timestamp('2016-09-20 10:10:00+0800', tz='Asia/Shanghai', freq='7D'), Timestamp('2016-09-27 10:10:00+0800', tz='Asia/Shanghai', freq='7D'), Timestamp('2016-10-04 10:10:00+0800', tz='Asia/Shanghai', freq='7D'), Timestamp('2016-10-11 10:10:00+0800', tz='Asia/Shanghai', freq='7D'), Timestamp('2016-10-18 10:10:00+0800', tz='Asia/Shanghai', freq='7D'), Timestamp('2016-10-25 10:10:00+0800', tz='Asia/Shanghai', freq='7D'), Timestamp('2016-11-01 10:10:00+0800', tz='Asia/Shanghai', freq='7D'), Timestamp('2016-11-08 10:10:00+0800', tz='Asia/Shanghai', freq='7D'), Timestamp('2016-11-15 10:10:00+0800', tz='Asia/Shanghai', freq='7D'), Timestamp('2016-11-22 10:10:00+0800', tz='Asia/Shanghai', freq='7D'), Timestamp('2016-11-29 10:10:00+0800', tz='Asia/Shanghai', freq='7D'), Timestamp('2016-12-06 10:10:00+0800', tz='Asia/Shanghai', freq='7D'), Timestamp('2016-12-13 10:10:00+0800', tz='Asia/Shanghai', freq='7D'), Timestamp('2016-12-20 10:10:00+0800', tz='Asia/Shanghai', freq='7D'), Timestamp('2016-12-27 10:10:00+0800', tz='Asia/Shanghai', freq='7D'), Timestamp('2017-01-03 10:10:00+0800', tz='Asia/Shanghai', freq='7D'), Timestamp('2017-01-10 10:10:00+0800', tz='Asia/Shanghai', freq='7D'), Timestamp('2017-01-17 10:10:00+0800', tz='Asia/Shanghai', freq='7D'), Timestamp('2017-01-24 10:10:00+0800', tz='Asia/Shanghai', freq='7D'), Timestamp('2017-01-31 10:10:00+0800', tz='Asia/Shanghai', freq='7D'), Timestamp('2017-02-07 10:10:00+0800', tz='Asia/Shanghai', freq='7D'), Timestamp('2017-02-14 10:10:00+0800', tz='Asia/Shanghai', freq='7D'), Timestamp('2017-02-21 10:10:00+0800', tz='Asia/Shanghai', freq='7D'), Timestamp('2017-02-28 10:10:00+0800', tz='Asia/Shanghai', freq='7D'), Timestamp('2017-03-07 10:10:00+0800', tz='Asia/Shanghai', freq='7D'), Timestamp('2017-03-14 10:10:00+0800', tz='Asia/Shanghai', freq='7D'), Timestamp('2017-03-21 10:10:00+0800', tz='Asia/Shanghai', freq='7D'), Timestamp('2017-03-28 10:10:00+0800', tz='Asia/Shanghai', freq='7D'), Timestamp('2017-04-04 10:10:00+0800', tz='Asia/Shanghai', freq='7D'), Timestamp('2017-04-11 10:10:00+0800', tz='Asia/Shanghai', freq='7D'), Timestamp('2017-04-18 10:10:00+0800', tz='Asia/Shanghai', freq='7D'), Timestamp('2017-04-25 10:10:00+0800', tz='Asia/Shanghai', freq='7D'), Timestamp('2017-05-02 10:10:00+0800', tz='Asia/Shanghai', freq='7D'), Timestamp('2017-05-09 10:10:00+0800', tz='Asia/Shanghai', freq='7D'), Timestamp('2017-05-16 10:10:00+0800', tz='Asia/Shanghai', freq='7D'), Timestamp('2017-05-23 10:10:00+0800', tz='Asia/Shanghai', freq='7D'), Timestamp('2017-05-30 10:10:00+0800', tz='Asia/Shanghai', freq='7D'), Timestamp('2017-06-06 10:10:00+0800', tz='Asia/Shanghai', freq='7D'), Timestamp('2017-06-13 10:10:00+0800', tz='Asia/Shanghai', freq='7D'), Timestamp('2017-06-20 10:10:00+0800', tz='Asia/Shanghai', freq='7D'), Timestamp('2017-06-27 10:10:00+0800', tz='Asia/Shanghai', freq='7D'), Timestamp('2017-07-04 10:10:00+0800', tz='Asia/Shanghai', freq='7D'), Timestamp('2017-07-11 10:10:00+0800', tz='Asia/Shanghai', freq='7D'), Timestamp('2017-07-18 10:10:00+0800', tz='Asia/Shanghai', freq='7D'), Timestamp('2017-07-25 10:10:00+0800', tz='Asia/Shanghai', freq='7D'), Timestamp('2017-08-01 10:10:00+0800', tz='Asia/Shanghai', freq='7D'), Timestamp('2017-08-08 10:10:00+0800', tz='Asia/Shanghai', freq='7D'), Timestamp('2017-08-15 10:10:00+0800', tz='Asia/Shanghai', freq='7D'), Timestamp('2017-08-22 10:10:00+0800', tz='Asia/Shanghai', freq='7D'), Timestamp('2017-08-29 10:10:00+0800', tz='Asia/Shanghai', freq='7D'), Timestamp('2017-09-05 10:10:00+0800', tz='Asia/Shanghai', freq='7D'), Timestamp('2017-09-12 10:10:00+0800', tz='Asia/Shanghai', freq='7D'), Timestamp('2017-09-19 10:10:00+0800', tz='Asia/Shanghai', freq='7D'), Timestamp('2017-09-26 10:10:00+0800', tz='Asia/Shanghai', freq='7D'), Timestamp('2017-10-03 10:10:00+0800', tz='Asia/Shanghai', freq='7D'), Timestamp('2017-10-10 10:10:00+0800', tz='Asia/Shanghai', freq='7D'), Timestamp('2017-10-17 10:10:00+0800', tz='Asia/Shanghai', freq='7D'), Timestamp('2017-10-24 10:10:00+0800', tz='Asia/Shanghai', freq='7D'), Timestamp('2017-10-31 10:10:00+0800', tz='Asia/Shanghai', freq='7D'), Timestamp('2017-11-07 10:10:00+0800', tz='Asia/Shanghai', freq='7D'), Timestamp('2017-11-14 10:10:00+0800', tz='Asia/Shanghai', freq='7D'), Timestamp('2017-11-21 10:10:00+0800', tz='Asia/Shanghai', freq='7D'), Timestamp('2017-11-28 10:10:00+0800', tz='Asia/Shanghai', freq='7D'), Timestamp('2017-12-05 10:10:00+0800', tz='Asia/Shanghai', freq='7D'), Timestamp('2017-12-12 10:10:00+0800', tz='Asia/Shanghai', freq='7D'), Timestamp('2017-12-19 10:10:00+0800', tz='Asia/Shanghai', freq='7D'), Timestamp('2017-12-26 10:10:00+0800', tz='Asia/Shanghai', freq='7D')]\n"
     ]
    }
   ],
   "source": [
    "\n",
    "import pandas as pd\n",
    "daterange=pd.date_range(start='2013-10-01', end='2018-01-01',freq='7D')\n",
    "df=pd.read_csv(\"D:\\\\002 MakeLive\\myquant\\LvyiWin\\Results\\DCE I 600 ricequant\\\\\"\n",
    "               \"DCE.I600 Set0 MS3 ML8 KN6 DN6 result.csv\")\n",
    "df.index=pd.to_datetime(df['openutc'],unit='s')\n",
    "df=df.tz_localize('UTC')\n",
    "df=df.tz_convert('Asia/Shanghai')\n",
    "df['ret1']=0\n",
    "df.loc[df['ret']>0,'ret1']=1\n",
    "df['retr1']=df['ret_r']+1\n",
    "df2=pd.DataFrame()\n",
    "df2['ret1']=df.resample('7D').ret1.sum()\n",
    "df2['ret_count']=df.resample('7D').ret.count()\n",
    "df2['SR']=df2['ret1']/df2['ret_count']\n",
    "df2['ret_r']=df.resample('7D').retr1.prod()\n",
    "print df2.head(10)\n",
    "df2=df2.T\n",
    "print df2.columns.tolist()\n"
   ]
  },
  {
   "cell_type": "code",
   "execution_count": 64,
   "metadata": {},
   "outputs": [
    {
     "name": "stdout",
     "output_type": "stream",
     "text": [
      "              volume\n",
      "2013-10-43    436080\n",
      "2013-10-44    382610\n",
      "2013-11-44    321242\n",
      "2013-11-45    510842\n",
      "2013-11-46    331408\n",
      "2013-11-47    250234\n",
      "2013-11-48    202044\n",
      "2013-12-1     157786\n",
      "2013-12-49    264400\n",
      "2013-12-50    202162\n",
      "2013-12-51    200528\n",
      "2013-12-52    444800\n",
      "2014-1-1      189264\n",
      "2014-1-2      578606\n",
      "2014-1-3      421372\n",
      "2014-1-4      617104\n",
      "2014-1-5      232810\n",
      "2014-10-41   2356342\n",
      "2014-10-42   4485388\n",
      "2014-10-43   4196014\n",
      "2014-10-44   3670264\n",
      "2014-11-45   4633434\n",
      "2014-11-46   3303152\n",
      "2014-11-47   4546912\n",
      "2014-11-48   6250360\n",
      "2014-12-1    2074776\n",
      "2014-12-49   6598534\n",
      "2014-12-50   6195264\n",
      "2014-12-51   3742522\n",
      "2014-12-52   2651394\n",
      "...              ...\n",
      "2017-3-9     5552794\n",
      "2017-4-14    6201664\n",
      "2017-4-15    8765770\n",
      "2017-4-16   11821798\n",
      "2017-4-17   12176410\n",
      "2017-5-18   10073488\n",
      "2017-5-19   15625864\n",
      "2017-5-20   14429720\n",
      "2017-5-21   12849308\n",
      "2017-5-22    2987906\n",
      "2017-6-22    5742306\n",
      "2017-6-23   12917426\n",
      "2017-6-24   12326186\n",
      "2017-6-25   10404532\n",
      "2017-6-26   12103256\n",
      "2017-7-27   12883836\n",
      "2017-7-28   11212348\n",
      "2017-7-29   12340760\n",
      "2017-7-30   10120718\n",
      "2017-7-31    1704820\n",
      "2017-8-31    9220350\n",
      "2017-8-32   15826420\n",
      "2017-8-33   15472964\n",
      "2017-8-34   17439634\n",
      "2017-8-35   11982200\n",
      "2017-9-35    2985946\n",
      "2017-9-36   17206146\n",
      "2017-9-37   15529352\n",
      "2017-9-38   13363604\n",
      "2017-9-39   12344066\n",
      "\n",
      "[238 rows x 1 columns]\n"
     ]
    }
   ],
   "source": [
    "import pandas as pd\n",
    "from datetime import datetime\n",
    "df=pd.read_csv(\"D:\\\\002 MakeLive\\DataCollection\\\\bar data\\DCE.I\\\\\"\n",
    "               \"DCE.I 600.csv\")\n",
    "df.index=pd.to_datetime(df['strtime'])\n",
    "df=df.tz_localize('UTC')\n",
    "df=df.tz_convert('Asia/Shanghai')\n",
    "df=df[datetime(2013,10,22,10,10,0):]\n",
    "df2=pd.DataFrame()\n",
    "#df2['volume']=df.resample('7D').volume.sum()\n",
    "#df2['vol']=df.resample('7D').volume.std()\n",
    "volume=df.volume\n",
    "df2['volume']=volume.groupby(lambda x:str(x.year)+'-'+str(x.month)+'-'+str(x.week)).sum()\n",
    "print df2\n",
    "    "
   ]
  },
  {
   "cell_type": "code",
   "execution_count": 69,
   "metadata": {},
   "outputs": [
    {
     "name": "stdout",
     "output_type": "stream",
     "text": [
      "['2013-10-31', '2013-11-30', '2013-12-31', '2014-01-31', '2014-02-28', '2014-03-31', '2014-04-30', '2014-05-31', '2014-06-30', '2014-07-31', '2014-08-31', '2014-09-30', '2014-10-31', '2014-11-30', '2014-12-31', '2015-01-31', '2015-02-28', '2015-03-31', '2015-04-30', '2015-05-31', '2015-06-30', '2015-07-31', '2015-08-31', '2015-09-30', '2015-10-31', '2015-11-30', '2015-12-31', '2016-01-31', '2016-02-29', '2016-03-31', '2016-04-30', '2016-05-31', '2016-06-30', '2016-07-31', '2016-08-31', '2016-09-30', '2016-10-31', '2016-11-30', '2016-12-31', '2017-01-31', '2017-02-28', '2017-03-31', '2017-04-30', '2017-05-31', '2017-06-30', '2017-07-31', '2017-08-31', '2017-09-30', '2017-10-31', '2017-11-30', '2017-12-31']\n"
     ]
    }
   ],
   "source": [
    "import pandas as pd\n",
    "from datetime import datetime\n",
    "peroidlist = [datetime.strftime(x,'%Y-%m-%d') for x in list(pd.date_range(start='2013-10-01', end='2018-01-01',freq='M'))]\n",
    "print peroidlist"
   ]
  },
  {
   "cell_type": "code",
   "execution_count": null,
   "metadata": {},
   "outputs": [],
   "source": []
  }
 ],
 "metadata": {
  "kernelspec": {
   "display_name": "Python 2",
   "language": "python",
   "name": "python2"
  },
  "language_info": {
   "codemirror_mode": {
    "name": "ipython",
    "version": 2
   },
   "file_extension": ".py",
   "mimetype": "text/x-python",
   "name": "python",
   "nbconvert_exporter": "python",
   "pygments_lexer": "ipython2",
   "version": "2.7.13"
  }
 },
 "nbformat": 4,
 "nbformat_minor": 1
}
