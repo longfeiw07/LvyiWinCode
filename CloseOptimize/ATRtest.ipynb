{
 "cells": [
  {
   "cell_type": "code",
   "execution_count": 2,
   "metadata": {
    "collapsed": true
   },
   "outputs": [
    {
     "name": "stderr",
     "output_type": "stream",
     "text": [
      "C:\\Python27\\lib\\site-packages\\ipykernel_launcher.py:13: DeprecationWarning: \n.ix is deprecated. Please use\n.loc for label based indexing or\n.iloc for positional indexing\n\nSee the documentation here:\nhttp://pandas.pydata.org/pandas-docs/stable/indexing.html#ix-indexer-is-deprecated\n  del sys.path[0]\n"
     ]
    }
   ],
   "source": [
    "# -*- coding: utf-8 -*-\n",
    "#在1m文件中标识range\n",
    "import pandas as pd\n",
    "df1m=pd.read_csv(\"D:\\\\002 MakeLive\\DataCollection\\\\bar data\\SHFE.RB\\\\SHFE.RB 60.csv\",index_col='strtime')\n",
    "df10m=pd.read_csv(\"D:\\\\002 MakeLive\\DataCollection\\\\bar data\\SHFE.RB\\\\SHFE.RB 600.csv\")\n",
    "time10m=df10m.strtime\n",
    "df1m['range']=0\n",
    "for t in time10m:\n",
    "    #print t\n",
    "    if \"14:55\" in t:\n",
    "        r=5\n",
    "    else:r=10\n",
    "    df1m.ix[t,\"range\"]=r\n",
    "df1m.to_csv(\"SHFE.RB 60_range.csv\")"
   ]
  },
  {
   "cell_type": "code",
   "execution_count": 3,
   "metadata": {},
   "outputs": [
    {
     "name": "stdout",
     "output_type": "stream",
     "text": [
      "finished!\n"
     ]
    }
   ],
   "source": [
    "# -*- coding: utf-8 -*-\n",
    "'''\n",
    "TR := MAX(MAX(HIGH-LOW,ABS(HIGH-REF(CLOSE,1))),ABS(LOW-REF(CLOSE,1)))\n",
    "#计算每根10mK的TR\n",
    "'''\n",
    "import pandas as pd\n",
    "import numpy as np\n",
    "df10m=pd.read_csv(\"D:\\\\002 MakeLive\\DataCollection\\\\bar data\\SHFE.RB\\\\SHFE.RB 600.csv\")\n",
    "\n",
    "high=df10m.high\n",
    "low=df10m.low\n",
    "close=df10m.close\n",
    "closeshift1=close.shift(1).fillna(0)\n",
    "c=high-low\n",
    "d=np.abs(high-closeshift1)\n",
    "df1=pd.DataFrame({'c':c,'d':d})\n",
    "df1['A']=df1.max(axis=1)\n",
    "df1.drop('c',axis=1,inplace=True)\n",
    "df1.drop('d',axis=1,inplace=True)\n",
    "df1['B']=np.abs(low-closeshift1)\n",
    "df10m['TR']=df1.max(axis=1)\n",
    "df10m.to_csv(\"SHFE.RB 600_TR.csv\")\n",
    "print \"finished!\"\n"
   ]
  },
  {
   "cell_type": "code",
   "execution_count": 1,
   "metadata": {
    "collapsed": false
   },
   "outputs": [
    {
     "name": "stderr",
     "output_type": "stream",
     "text": [
      "C:\\Python27\\lib\\site-packages\\ipykernel_launcher.py:24: DeprecationWarning: \n.ix is deprecated. Please use\n.loc for label based indexing or\n.iloc for positional indexing\n\nSee the documentation here:\nhttp://pandas.pydata.org/pandas-docs/stable/indexing.html#ix-indexer-is-deprecated\n"
     ]
    }
   ],
   "source": [
    "# -*- coding: utf-8 -*-\n",
    "'''\n",
    "计算1km的TR\n",
    "2.0\n",
    "i从beginindex=1开始遍历1mK，取range值,以及i-1 K线的的close作为preclose，取i的open作为open\n",
    "遍历range值（r in range)，取i~r的high.max和low.min作为最高最低值\n",
    "结合preclose和open，计算TR\n",
    "===============================================\n",
    "1.0\n",
    "遍历10mK，根据10mK取对应1mK的range值\n",
    "根据range值取1mK\n",
    "遍历1mK，生成截至该1mK时该10mK的值\n",
    "取上一根10M的close一起计算每根1M根的TR值\n",
    "取前N根10mK与当前TR，一起计算当前1mk的ATR\n",
    "'''\n",
    "import pandas as pd\n",
    "import numpy as np\n",
    "df1m=pd.read_csv(\"SHFE.RB 60_range.csv\")\n",
    "df1m['TR']=0\n",
    "beginindex=10\n",
    "num=df1m.shape[0]\n",
    "i=beginindex\n",
    "while(i<num):\n",
    "    preclose=df1m.ix[i-1,'close']\n",
    "    rng=df1m.ix[i,'range']\n",
    "    if rng==0:\n",
    "        i+=1\n",
    "        continue\n",
    "    hm=df1m.ix[i,'high']\n",
    "    lm=df1m.ix[i,'low']\n",
    "    df1m.ix[i,'TR']=max((hm-lm),abs(hm-preclose),abs(lm-preclose))\n",
    "    for r in range(1,rng):\n",
    "        hm=max(hm,df1m.ix[i+r,'high'])\n",
    "        lm=min(lm,df1m.ix[i+r,'low'])\n",
    "        df1m.ix[i+r,'TR']=max((hm-lm),abs(hm-preclose),abs(lm-preclose))\n",
    "    i+=rng\n",
    "df1m.to_csv(\"SHFE.RB 60_range_TR.csv\")\n",
    "print \"finished\""
   ]
  },
  {
   "cell_type": "code",
   "execution_count": null,
   "metadata": {},
   "outputs": [],
   "source": [
    "# -*- coding: utf-8 -*-\n",
    "'''\n",
    "计算1mk的ATR\n",
    "从N-1开始遍历10mk，取0~N-2的ATR:trlist\n",
    "根据N的strtime定位到1mk，取rng,1mkdata\n",
    "for i in range(rng):\n",
    "    trlist.append(1mkdata.iloc[i]['TR']\n",
    "    df1m['ATR']=trlist.mean()\n",
    "    del trlist[-1]\n",
    "'''\n",
    "import pandas as pd\n",
    "N=20\n",
    "df10m=pd.read_csv(\"SHFE.RB 600_TR.csv\")\n",
    "atlist=df10m[:N,'TR'].tolist()\n",
    "print atlist"
   ]
  }
 ],
 "metadata": {
  "kernelspec": {
   "display_name": "Python 2",
   "language": "python",
   "name": "python2"
  },
  "language_info": {
   "codemirror_mode": {
    "name": "ipython",
    "version": 2
   },
   "file_extension": ".py",
   "mimetype": "text/x-python",
   "name": "python",
   "nbconvert_exporter": "python",
   "pygments_lexer": "ipython2",
   "version": "2.7.6"
  }
 },
 "nbformat": 4,
 "nbformat_minor": 0
}
